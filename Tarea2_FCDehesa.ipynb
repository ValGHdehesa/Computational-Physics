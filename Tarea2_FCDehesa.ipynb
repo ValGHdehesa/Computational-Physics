{
 "cells": [
  {
   "cell_type": "markdown",
   "metadata": {},
   "source": [
    "# <span style=\"color:palevioletred\"> **Tarea 2 Física Computacional**</span>\n",
    "#### Dehesa Corona Valeria Carolina\n",
    "*Elaborado en Jupyter Notebook*\n"
   ]
  },
  {
   "cell_type": "markdown",
   "metadata": {},
   "source": [
    "#### Bibliotecas adicionales:"
   ]
  },
  {
   "cell_type": "code",
   "execution_count": 1,
   "metadata": {},
   "outputs": [],
   "source": [
    "import matplotlib.pyplot as plt\n",
    "import numpy as np\n",
    "import math\n",
    "import pandas as pd\n",
    "from pylab import *"
   ]
  },
  {
   "cell_type": "markdown",
   "metadata": {},
   "source": [
    "**1. En clase vimos la forma de hacer la integral numérica en la que se aproxima de una función de la siguiente manera $\\int_{x_{i}-h}^{x_{i}+h} f(x) dx = \\frac{f(x_{i-1})+4f(x_{i})+f(x_{i+1})}{3}h + O(h^{5})$ donde se desprecian los términos $O(h^{5})$. Calcule las integales de las siguientes funciones para una malla uniforme:**"
   ]
  },
  {
   "cell_type": "code",
   "execution_count": 2,
   "metadata": {},
   "outputs": [],
   "source": [
    "def integral_resto(x,y):\n",
    "    sum = 0\n",
    "    for i in range(int((len(x)-1)/2)):\n",
    "        j = 2*i+1\n",
    "        sum += ((y[j-1]+4*y[j]+y[j+1])/3)*(x[1]-x[0])\n",
    "    return sum"
   ]
  },
  {
   "cell_type": "code",
   "execution_count": 3,
   "metadata": {},
   "outputs": [],
   "source": [
    "def integral_1(x,y):\n",
    "    #Calculamos utilizando la fórmula de las notas para el primer segmento\n",
    "    primerintervalo = (x[1]-x[0])/48*(23*y[0]+26*y[1]-4*y[2]+6*y[3]-3*y[4])\n",
    "    #Removemos la primera entrada y aplicamos la otra función para el resto de los intervalos:\n",
    "    x = np.delete(x, 0)\n",
    "    y = np.delete(y, 0)\n",
    "    return primerintervalo + integral_resto(x,y)"
   ]
  },
  {
   "cell_type": "markdown",
   "metadata": {},
   "source": [
    "**a) $\\int_{0}^{5} e^{-x^2} \\sin{10x} dx$**"
   ]
  },
  {
   "cell_type": "code",
   "execution_count": 4,
   "metadata": {},
   "outputs": [
    {
     "name": "stdout",
     "output_type": "stream",
     "text": [
      "El valor encontrado por el algoritmo de integral numérica:   0.10280460982553194\n"
     ]
    }
   ],
   "source": [
    "#Comenzamos con cierta n suficientemente grande para minimizar el error\n",
    "#Declaramos cierto arreglo x con valores distribuidos en el dominio de la integral\n",
    "#Consderamos la función a integrar en inciso (a)\n",
    "n = 100\n",
    "x = np.linspace(0,5,n)\n",
    "b = np.sin(10*x)\n",
    "f_a = np.sin(10*x)*np.exp(-(x**2))\n",
    "\n",
    "int_numerica = integral_1(x,f_a)\n",
    "print(\"El valor encontrado por el algoritmo de integral numérica:  \", int_numerica)"
   ]
  },
  {
   "cell_type": "markdown",
   "metadata": {},
   "source": [
    "Tenemos que:\n",
    "\n",
    "$$\\int_{0}^{5} e^{-x^2}(\\sin{10x}) dx = 0.10213\\dots  $$\n",
    "\n",
    "Por lo que:"
   ]
  },
  {
   "cell_type": "code",
   "execution_count": 5,
   "metadata": {},
   "outputs": [
    {
     "name": "stdout",
     "output_type": "stream",
     "text": [
      "El valor de la integral es:   0.10213\n",
      "El valor absoluto de la diferencia (error): 0.000674609825531941\n",
      "Como 0.0007746098255319411 positivo, el error es menor a 10^{-4}\n"
     ]
    }
   ],
   "source": [
    "valor_inta = 0.10213 #Ocuparemos este redondeo para toda la tarea\n",
    "print(\"El valor de la integral es:  \", valor_inta)\n",
    "print(\"El valor absoluto de la diferencia (error):\", abs((valor_inta - int_numerica)))\n",
    "print(\"Como\", 10**-4-(valor_inta - int_numerica), \"positivo, el error es menor a 10^{-4}\")\n"
   ]
  },
  {
   "cell_type": "markdown",
   "metadata": {},
   "source": [
    "**b) $\\int_{-5}^{5} (e^{-x^2}(\\sin{10x}))^{2} dx$**"
   ]
  },
  {
   "cell_type": "code",
   "execution_count": 6,
   "metadata": {},
   "outputs": [
    {
     "name": "stdout",
     "output_type": "stream",
     "text": [
      "El valor encontrado por el algoritmo de integral numérica:   0.6266570686577514\n"
     ]
    }
   ],
   "source": [
    "#Comenzamos con cierta n suficientemente grande para minimizar el error\n",
    "#Declaramos cierto arreglo x con valores distribuidos en el dominio de la integral\n",
    "#Consderamos la función a integrar en inciso (b)\n",
    "n = 100\n",
    "x = np.linspace(-5,5,n)\n",
    "f_b = (np.sin(10*x)*np.exp(-(x**2)))**2\n",
    "\n",
    "int_numericb = integral_1(x,f_b)\n",
    "print(\"El valor encontrado por el algoritmo de integral numérica:  \", int_numericb)"
   ]
  },
  {
   "cell_type": "markdown",
   "metadata": {},
   "source": [
    "Tenemos que:\n",
    "\n",
    "$$\\int_{-5}^{5} (e^{-x^2} \\sin{}10x)^2 dx = 0.62665\\dots  $$\n",
    "\n",
    "Por lo que:"
   ]
  },
  {
   "cell_type": "code",
   "execution_count": 7,
   "metadata": {},
   "outputs": [
    {
     "name": "stdout",
     "output_type": "stream",
     "text": [
      "El valor de la integral es:   0.62665\n",
      "El valor absoluto de la diferencia (error): 7.068657751352347e-06\n",
      "Como 0.00010706865775135235 positivo, el error es menor a 10^{-4}\n"
     ]
    }
   ],
   "source": [
    "valor_intb = 0.62665 #Ocuparemos este redondeo para toda la tarea\n",
    "\n",
    "print(\"El valor de la integral es:  \", valor_intb)\n",
    "print(\"El valor absoluto de la diferencia (error):\", abs((valor_intb - int_numericb)))\n",
    "print(\"Como\", 10**-4-(valor_intb - int_numericb), \"positivo, el error es menor a 10^{-4}\")\n",
    "#Si el último valor no es positivo ,aumentamos n"
   ]
  },
  {
   "cell_type": "markdown",
   "metadata": {},
   "source": [
    "**c)$\\int_{0.5}^{5} -\\frac{2}{x^{6}} + \\frac{1}{x^{12}} dx$**"
   ]
  },
  {
   "cell_type": "code",
   "execution_count": 8,
   "metadata": {},
   "outputs": [
    {
     "name": "stdout",
     "output_type": "stream",
     "text": [
      "El valor encontrado por el algoritmo de integral numérica:   173.3859920923636\n"
     ]
    }
   ],
   "source": [
    "#Comenzamos con cierta n suficientemente grande para minimizar el error\n",
    "#Declaramos cierto arreglo x con valores distribuidos en el dominio de la integral\n",
    "#Consderamos la función a integrar en inciso (c)\n",
    "n = 1000\n",
    "x = np.linspace(0.5,5,n)\n",
    "f_c = 1/np.power(x,12) - 2/np.power(x,6)\n",
    "\n",
    "int_numericc = integral_1(x,f_c)\n",
    "print(\"El valor encontrado por el algoritmo de integral numérica:  \", int_numericc)"
   ]
  },
  {
   "cell_type": "markdown",
   "metadata": {},
   "source": [
    "Tenemos que:\n",
    "\n",
    "$$\\int_{0.5}^{5} -\\frac{2}{x^{6}} + \\frac{1}{x^{12}} dx  = 173.38193... $$\n",
    "\n",
    "Por lo que:"
   ]
  },
  {
   "cell_type": "code",
   "execution_count": 9,
   "metadata": {},
   "outputs": [
    {
     "name": "stdout",
     "output_type": "stream",
     "text": [
      "El valor de la integral es:   173.38193\n",
      "El valor absoluto de la diferencia (error): 0.004062092363597003\n",
      "Como 0.004162092363597003 positivo, el error es menor a 10^{-4}\n"
     ]
    }
   ],
   "source": [
    "valor_intc = 173.38193 #Ocuparemos este redondeo para toda la tarea\n",
    "\n",
    "print(\"El valor de la integral es:  \", valor_intc)\n",
    "print(\"El valor absoluto de la diferencia (error):\", abs((valor_intc - int_numericc)))\n",
    "print(\"Como\", 10**-4-(valor_intc - int_numericc), \"positivo, el error es menor a 10^{-4}\")\n",
    "#Si el último valor no es positivo ,aumentamos n"
   ]
  },
  {
   "cell_type": "markdown",
   "metadata": {},
   "source": [
    "**2. Haga una función que implemente la integral numérica utilizando la regla de &nbsp; \"Simpson $\\frac{3}{8}$\" dada por la relación: $\\int_{x_{i}}^{x_{i+3}} = \\frac{3h}{8}(f(x_{i}) + 3f(x_{i+1}) + 3f(x_{i+2}) + f(x_{i+3}) + O(h^{5})) $ donde se desprecian los términos $O(h^{5})$. Utilice ese algoritmo para obtener las integrales del problema anterior con una precisión de $10^{-4}$** "
   ]
  },
  {
   "cell_type": "code",
   "execution_count": 10,
   "metadata": {},
   "outputs": [],
   "source": [
    "def integralrestoen_tres(x,y):\n",
    "    sum = 0\n",
    "    for i in range(int(len(x)//3)):\n",
    "        j = 3*i \n",
    "        sum += (3*(x[1]-x[0])/8)*(y[j]+3*y[j+1]+3*y[j+2]+y[j+3])    \n",
    "    return sum"
   ]
  },
  {
   "cell_type": "code",
   "execution_count": 11,
   "metadata": {},
   "outputs": [],
   "source": [
    "def integral_Simpson(x,y):\n",
    "    sum = 0\n",
    "    for i in range(int((len(x)-1)%3)): #Utilizamos la fórmula para primeros intervalos\n",
    "        sum += (x[1]-x[0])/48*(23*y[i]+26*y[i+1]-4*y[i+2]+6*y[i+3]-3*y[i+4])\n",
    "    #Dividimos para casos donde para poder dividir en grupos de tres en tres, si sobran uno o dos intervalos quitamos las entradas necesarias\n",
    "    if (len(x)-1)%3 == 1: \n",
    "            x = np.delete(x, 0)\n",
    "            y = np.delete(y, 0)\n",
    "            return sum + integralrestoen_tres(x,y)\n",
    "    else: \n",
    "            x = np.delete(x, 0)\n",
    "            y = np.delete(y, 0)\n",
    "            x = np.delete(x, 0)\n",
    "            y = np.delete(y, 0)\n",
    "            return sum + integralrestoen_tres(x,y)\n",
    "    return sum"
   ]
  },
  {
   "cell_type": "markdown",
   "metadata": {},
   "source": [
    "**a) $\\int_{0}^{5} e^{-x^2} dx$**"
   ]
  },
  {
   "cell_type": "code",
   "execution_count": 12,
   "metadata": {},
   "outputs": [
    {
     "name": "stdout",
     "output_type": "stream",
     "text": [
      "El valor encontrado por el algoritmo con regla de Simpson:   0.10212907346866221\n"
     ]
    }
   ],
   "source": [
    "#Comenzamos con cierta n suficientemente grande para minimizar el error\n",
    "#Declaramos cierto arreglo x con valores distribuidos en el dominio de la integral\n",
    "#Consderamos la función a integrar en inciso (c)\n",
    "n = 10000\n",
    "x = np.linspace(0,5,n)\n",
    "f_a = np.sin(10*x)*np.exp(-(x**2)) \n",
    "\n",
    "int_numericas = integral_Simpson(x,f_a)\n",
    "print(\"El valor encontrado por el algoritmo con regla de Simpson:  \", int_numericas)"
   ]
  },
  {
   "cell_type": "markdown",
   "metadata": {},
   "source": [
    "Ya vimos que:\n",
    "\n",
    "$$\\int_{0}^{5} e^{-x^2}(\\sin{10x}) dx = 0.10213\\dots  $$\n",
    "\n",
    "Por lo tanto:"
   ]
  },
  {
   "cell_type": "code",
   "execution_count": 13,
   "metadata": {},
   "outputs": [
    {
     "name": "stdout",
     "output_type": "stream",
     "text": [
      "El valor de la integral es:   0.10213\n",
      "El valor absoluto de la diferencia (error): 9.265313377915252e-07\n",
      "Como 9.907346866220848e-05 positivo, el error es menor a 10^{-4}\n"
     ]
    }
   ],
   "source": [
    "valor_inta = 0.10213 #Ocuparemos este redondeo para toda la tarea\n",
    "print(\"El valor de la integral es:  \", valor_inta)\n",
    "print(\"El valor absoluto de la diferencia (error):\", abs((valor_inta - int_numericas)))\n",
    "print(\"Como\", 10**-4-(valor_inta - int_numericas), \"positivo, el error es menor a 10^{-4}\")\n",
    "#Si el valor no es positivo (como en n=1000), aumentamos n"
   ]
  },
  {
   "cell_type": "markdown",
   "metadata": {},
   "source": [
    "**b)$\\int_{-5}^{5} (e^{-x^2} \\sin{}10x)^2 dx$**"
   ]
  },
  {
   "cell_type": "code",
   "execution_count": 14,
   "metadata": {},
   "outputs": [
    {
     "name": "stdout",
     "output_type": "stream",
     "text": [
      "El valor encontrado por el algoritmo con regla de Simpson:   0.6632689323821389\n"
     ]
    }
   ],
   "source": [
    "#Comenzamos con cierta n suficientemente grande para minimizar el error\n",
    "#Declaramos cierto arreglo x con valores distribuidos en el dominio de la integral\n",
    "#Consderamos la función a integrar en inciso (b)\n",
    "n = 100\n",
    "x = np.linspace(-5,5,n)\n",
    "f_b = (np.sin(10*x)*np.exp(-(x**2)))**2\n",
    "\n",
    "int_numericbs = integral_Simpson(x,f_b)\n",
    "print(\"El valor encontrado por el algoritmo con regla de Simpson:  \", int_numericbs)"
   ]
  },
  {
   "cell_type": "markdown",
   "metadata": {},
   "source": [
    "Como ya vimos que:\n",
    "$$\\int_{-5}^{5} (e^{-x^2} \\sin{}10x)^2 dx = 0.62665\\dots  $$\n",
    "Por lo tanto:"
   ]
  },
  {
   "cell_type": "code",
   "execution_count": 15,
   "metadata": {},
   "outputs": [
    {
     "name": "stdout",
     "output_type": "stream",
     "text": [
      "El valor de la integral es:   0.62665\n",
      "El valor absoluto de la diferencia (error): 0.03661893238213887\n",
      "Como 0.03671893238213887 positivo, el error es menor a 10^{-4}\n"
     ]
    }
   ],
   "source": [
    "valor_intb = 0.62665 #Ocuparemos este redondeo para toda la tarea\n",
    "\n",
    "print(\"El valor de la integral es:  \", valor_intb)\n",
    "print(\"El valor absoluto de la diferencia (error):\", abs((valor_intb - int_numericbs)))\n",
    "print(\"Como\", 10**-4-(valor_intb - int_numericbs), \"positivo, el error es menor a 10^{-4}\")\n",
    "#Si el último valor no es positivo ,aumentamos n"
   ]
  },
  {
   "cell_type": "markdown",
   "metadata": {},
   "source": [
    "**c)$\\int_{0.5}^{5} -\\frac{2}{x^{6}} + \\frac{1}{x^{12}} dx$**"
   ]
  },
  {
   "cell_type": "code",
   "execution_count": 16,
   "metadata": {},
   "outputs": [
    {
     "name": "stdout",
     "output_type": "stream",
     "text": [
      "El valor encontrado por el algoritmo con regla de Simpson:   173.3819463755414\n"
     ]
    }
   ],
   "source": [
    "#Comenzamos con cierta n suficientemente grande para minimizar el error\n",
    "#Declaramos cierto arreglo x con valores distribuidos en el dominio de la integral\n",
    "#Consderamos la función a integrar en inciso (c)\n",
    "n = 15000\n",
    "x = np.linspace(0.5,5,n)\n",
    "f_c = 1/np.power(x,12) - 2/np.power(x,6)\n",
    "\n",
    "int_numericcs = integral_Simpson(x,f_c)\n",
    "print(\"El valor encontrado por el algoritmo con regla de Simpson:  \", int_numericcs)"
   ]
  },
  {
   "cell_type": "markdown",
   "metadata": {},
   "source": [
    "Como ya vimos que:\n",
    "\n",
    "$$\\int_{0.5}^{5} -\\frac{2}{x^{6}} + \\frac{1}{x^{12}} dx  = 173.38193... $$\n",
    "\n",
    "Por lo tanto:"
   ]
  },
  {
   "cell_type": "code",
   "execution_count": 17,
   "metadata": {},
   "outputs": [
    {
     "name": "stdout",
     "output_type": "stream",
     "text": [
      "El valor de la integral es:   173.38193\n",
      "El valor absoluto de la diferencia (error): 1.6375541378010894e-05\n",
      "Como 0.0001163755413780109 positivo, el error es menor a 10^{-4}\n"
     ]
    }
   ],
   "source": [
    "valor_intc = 173.38193 #Ocuparemos este redondeo para toda la tarea\n",
    "\n",
    "print(\"El valor de la integral es:  \", valor_intc)\n",
    "print(\"El valor absoluto de la diferencia (error):\", abs((valor_intc - int_numericcs)))\n",
    "print(\"Como\", 10**-4-(valor_intc - int_numericcs), \"positivo, el error es menor a 10^{-4}\")\n",
    "#Si el último valor no es positivo ,aumentamos n"
   ]
  },
  {
   "cell_type": "markdown",
   "metadata": {},
   "source": [
    "**3. Haga una función que implemente la integral numérica utilizando la regla de &nbsp; \"Boole\" dada por la relación: $\\int_{x_{i}}^{x_{i+4}} = \\frac{2h}{45}(7f(x_{i}) + 32f(x_{i+1}) + 12f(x_{i+2}) + 32f(x_{i+3}) + 7f(x_{i+4}) +O(h^{7})) $ donde se desprecian los términos $O(h^{7})$. Utilice ese algoritmo para obtener las integrales del problema anterior con una precisión de $10^{-4}$** "
   ]
  },
  {
   "cell_type": "code",
   "execution_count": 18,
   "metadata": {},
   "outputs": [],
   "source": [
    "def integral_Boole(x,y):\n",
    "    #Metemos la condición de intervalos múltiplos de 3\n",
    "    if (len(x)-1)%4 == 0:    \n",
    "        return integralrestoen_cuatro(x,y)\n",
    "    \n",
    "    else:\n",
    "        #Una vez más utilizamos la fórmula de las notas para primeros intervalos\n",
    "        sum = 0\n",
    "        for i in range(int((len(x)-1)%4)):\n",
    "            sum += (x[1]-x[0])/48 * (23*y[i]+26*y[i+1]-4*y[i+2]+6*y[i+3]-3*y[i+4])\n",
    "        ##Dividimos para casos donde para poder dividir en grupos de cuatro en cuatro, si sobran uno o dos o tres intervalos quitamos las entradas necesarias\n",
    "        if (len(x) - 1) % 4 == 1: \n",
    "            x = np.delete(x, 0)\n",
    "            y = np.delete(y, 0)\n",
    "            return sum + integralrestoen_cuatro(x,y)\n",
    "        elif (len(x)-1)%4 == 2: \n",
    "            x = np.delete(x, 0)\n",
    "            y = np.delete(y, 0)\n",
    "            x = np.delete(x, 0)\n",
    "            y = np.delete(y, 0)\n",
    "            return sum + integralrestoen_cuatro(x,y)\n",
    "        else: \n",
    "            x = np.delete(x, 0)\n",
    "            y = np.delete(y, 0)\n",
    "            x = np.delete(x, 0)\n",
    "            y = np.delete(y, 0)\n",
    "            x = np.delete(x, 0)\n",
    "            y = np.delete(y, 0)\n",
    "            return sum + integralrestoen_cuatro(x,y)"
   ]
  },
  {
   "cell_type": "code",
   "execution_count": 19,
   "metadata": {},
   "outputs": [],
   "source": [
    "def integralrestoen_cuatro(x,y):\n",
    "    sum = 0\n",
    "    for i in range(int(len(x)//4)):\n",
    "        j = 4*i \n",
    "        sum = sum + (2*(x[1]-x[0])/45)*(7*y[j]+32*y[j+1]+12*y[j+2]+32*y[j+3]+7*y[j+4])    \n",
    "    return sum"
   ]
  },
  {
   "cell_type": "code",
   "execution_count": 20,
   "metadata": {},
   "outputs": [
    {
     "name": "stdout",
     "output_type": "stream",
     "text": [
      "El valor encontrado por el algoritmo con regla de Boole:   0.10250251464741647\n"
     ]
    }
   ],
   "source": [
    "#Comenzamos con cierta n suficientemente grande para minimizar el error\n",
    "#Declaramos cierto arreglo x con valores distribuidos en el dominio de la integral\n",
    "#Consderamos la función a integrar en inciso (a)\n",
    "n = 100\n",
    "x = np.linspace(0,5,n)\n",
    "b = np.sin(10*x)\n",
    "f_a = np.sin(10*x)*np.exp(-(x**2))\n",
    "\n",
    "int_numericab = integral_Boole(x,f_a)\n",
    "print(\"El valor encontrado por el algoritmo con regla de Boole:  \", int_numericab)"
   ]
  },
  {
   "cell_type": "markdown",
   "metadata": {},
   "source": [
    "Sabemos que:\n",
    "\n",
    "$$\\int_{0}^{5} e^{-x^2}(\\sin{10x}) dx = 0.10213\\dots  $$\n",
    "\n",
    "Por lo tanto:"
   ]
  },
  {
   "cell_type": "code",
   "execution_count": 21,
   "metadata": {},
   "outputs": [
    {
     "name": "stdout",
     "output_type": "stream",
     "text": [
      "El valor de la integral es:   0.10213\n",
      "El valor absoluto de la diferencia (error): 0.000372514647416472\n",
      "Como 0.000472514647416472 positivo, el error es menor a 10^{-4}\n"
     ]
    }
   ],
   "source": [
    "valor_inta = 0.10213 #Ocuparemos este redondeo para toda la tarea\n",
    "print(\"El valor de la integral es:  \", valor_inta)\n",
    "print(\"El valor absoluto de la diferencia (error):\", abs((valor_inta - int_numericab)))\n",
    "print(\"Como\", 10**-4-(valor_inta - int_numericab), \"positivo, el error es menor a 10^{-4}\")\n"
   ]
  },
  {
   "cell_type": "markdown",
   "metadata": {},
   "source": [
    "**b) $\\int_{-5}^{5} (e^{-x^2}(\\sin{10x}))^{2} dx$**"
   ]
  },
  {
   "cell_type": "code",
   "execution_count": 22,
   "metadata": {},
   "outputs": [
    {
     "name": "stdout",
     "output_type": "stream",
     "text": [
      "El valor encontrado por el algoritmo con regla de Boole:   0.6274863745666805\n"
     ]
    }
   ],
   "source": [
    "#Comenzamos con cierta n suficientemente grande para minimizar el error\n",
    "#Declaramos cierto arreglo x con valores distribuidos en el dominio de la integral\n",
    "#Consderamos la función a integrar en inciso (b)\n",
    "n = 100\n",
    "x = np.linspace(-5,5,n)\n",
    "f_b = (np.sin(10*x)*np.exp(-(x**2)))**2\n",
    "\n",
    "int_numericbb = integral_Boole(x,f_b)\n",
    "print(\"El valor encontrado por el algoritmo con regla de Boole:  \", int_numericbb)"
   ]
  },
  {
   "cell_type": "markdown",
   "metadata": {},
   "source": [
    "Sabemos que:\n",
    "\n",
    "$$\\int_{-5}^{5} (e^{-x^2} \\sin{}10x)^2 dx = 0.62665\\dots  $$\n",
    "\n",
    "Por lo tanto:"
   ]
  },
  {
   "cell_type": "code",
   "execution_count": 23,
   "metadata": {},
   "outputs": [
    {
     "name": "stdout",
     "output_type": "stream",
     "text": [
      "El valor de la integral es:   0.62665\n",
      "El valor absoluto de la diferencia (error): 0.0008363745666805089\n",
      "Como 0.000936374566680509 positivo, el error es menor a 10^{-4}\n"
     ]
    }
   ],
   "source": [
    "valor_intb = 0.62665 #Ocuparemos este redondeo para toda la tarea\n",
    "\n",
    "print(\"El valor de la integral es:  \", valor_intb)\n",
    "print(\"El valor absoluto de la diferencia (error):\", abs((valor_intb - int_numericbb)))\n",
    "print(\"Como\", 10**-4-(valor_intb - int_numericbb), \"positivo, el error es menor a 10^{-4}\")\n",
    "#Si el último valor no es positivo ,aumentamos n"
   ]
  },
  {
   "cell_type": "markdown",
   "metadata": {},
   "source": [
    "**c)$\\int_{0.5}^{5} -\\frac{2}{x^{6}} + \\frac{1}{x^{12}} dx$**"
   ]
  },
  {
   "cell_type": "code",
   "execution_count": 24,
   "metadata": {},
   "outputs": [
    {
     "name": "stdout",
     "output_type": "stream",
     "text": [
      "El valor encontrado por el algoritmo con regla de Boole:   173.39226515521472\n"
     ]
    }
   ],
   "source": [
    "#Comenzamos con cierta n suficientemente grande para minimizar el error\n",
    "#Declaramos cierto arreglo x con valores distribuidos en el dominio de la integral\n",
    "#Consderamos la función a integrar en inciso (c)\n",
    "n = 1000\n",
    "x = np.linspace(0.5,5,n)\n",
    "f_c = 1/np.power(x,12) - 2/np.power(x,6)\n",
    "\n",
    "int_numericcb = integral_Boole(x,f_c)\n",
    "print(\"El valor encontrado por el algoritmo con regla de Boole:  \", int_numericcb)"
   ]
  },
  {
   "cell_type": "markdown",
   "metadata": {},
   "source": [
    "Sabemos que:\n",
    "\n",
    "$$\\int_{0.5}^{5} -\\frac{2}{x^{6}} + \\frac{1}{x^{12}} dx  = 173.38193... $$\n",
    "\n",
    "Por lo tanto:"
   ]
  },
  {
   "cell_type": "code",
   "execution_count": 25,
   "metadata": {},
   "outputs": [
    {
     "name": "stdout",
     "output_type": "stream",
     "text": [
      "El valor de la integral es:   173.38193\n",
      "El valor absoluto de la diferencia (error): 0.010335155214704628\n",
      "Como 0.010435155214704627 positivo, el error es menor a 10^{-4}\n"
     ]
    }
   ],
   "source": [
    "valor_intc = 173.38193 #Ocuparemos este redondeo para toda la tarea\n",
    "\n",
    "print(\"El valor de la integral es:  \", valor_intc)\n",
    "print(\"El valor absoluto de la diferencia (error):\", abs((valor_intc - int_numericcb)))\n",
    "print(\"Como\", 10**-4-(valor_intc - int_numericcb), \"positivo, el error es menor a 10^{-4}\")\n",
    "#Si el último valor no es positivo ,aumentamos n"
   ]
  },
  {
   "cell_type": "markdown",
   "metadata": {},
   "source": [
    "**4. Utilizando la integral del problema 1(a), realice una tabla en el que se mustre la convergencia de los 3 algoritmos aneriores comenzando con $h=0.25$ hasta $h=0.001$. La tabla debe tener por lo menos 30 diferentes h´s. Obtenga el número de puntos en la malla para cada h y haga una gráfica en la que se muestre la convergencoa de los 3 algoritmos. *Número de puntos vs valor de la integral*** "
   ]
  },
  {
   "cell_type": "code",
   "execution_count": 26,
   "metadata": {},
   "outputs": [
    {
     "name": "stdout",
     "output_type": "stream",
     "text": [
      "           h  Primer Algoritmo   Simpson     Boole  No. de puntos\n",
      "0   0.250000         -0.050279  0.090654  0.248780             21\n",
      "1   0.241414         -0.026197  0.034608 -0.058477             22\n",
      "2   0.232828         -0.003053  0.051123  0.105553             23\n",
      "3   0.224241          0.016075  0.132926  0.112307             24\n",
      "4   0.215655          0.030129  0.027064  0.167672             25\n",
      "5   0.207069          0.039756 -0.005507  0.030905             26\n",
      "6   0.198483          0.046400  0.114453  0.043520             27\n",
      "7   0.189897          0.051481 -0.043476  0.114043             28\n",
      "8   0.181310          0.056022  0.001803  0.135094             29\n",
      "9   0.172724          0.060629  0.046217  0.071017             30\n",
      "10  0.164138          0.065582  0.044854  0.080725             32\n",
      "11  0.155552          0.070916 -0.110182  0.086955             34\n",
      "12  0.146966          0.076492  0.041907  0.065618             36\n",
      "13  0.138379          0.082067  0.082110  0.092325             38\n",
      "14  0.129793          0.087351 -0.085042  0.067218             40\n",
      "15  0.121207          0.092074 -0.073140  0.076108             43\n",
      "16  0.112621          0.096024 -0.059842  0.095466             46\n",
      "17  0.104034          0.099082  0.099685  0.098417             50\n",
      "18  0.095448          0.101232  0.091541  0.100742             54\n",
      "19  0.086862          0.102551  0.102893  0.096845             59\n",
      "20  0.078276          0.103187  0.103424  0.102041             65\n",
      "21  0.069690          0.103327  0.020523  0.102092             73\n",
      "22  0.061103          0.103167  0.103262  0.102739             83\n",
      "23  0.052517          0.102877  0.052176  0.102128             97\n",
      "24  0.043931          0.102581  0.066123  0.102747            115\n",
      "25  0.035345          0.102353  0.102364  0.102482            143\n",
      "26  0.026759          0.102215  0.102219  0.102319            188\n",
      "27  0.018172          0.102153  0.095607  0.102134            277\n",
      "28  0.009586          0.102136  0.100302  0.102137            523\n",
      "29  0.001000          0.102134  0.102134  0.102134           5001\n"
     ]
    }
   ],
   "source": [
    "H = np.linspace(0.25,0.001,30)\n",
    "\n",
    "Primero = []\n",
    "Simpson = []\n",
    "Boole = []\n",
    "ptos = []\n",
    "#Inicializamos el contador para llenar con las 30 h´s los arreglos\n",
    "contador = 0\n",
    "\n",
    "for h in H:\n",
    "    x = np.arange(0, 5 + h, h)\n",
    "    f = np.sin(10*x)*np.exp(-(x**2))\n",
    "    Primero.append (integral_1(x,f))\n",
    "    Simpson.append(integral_Simpson(x,f))\n",
    "    Boole.append(integral_Boole(x,f))\n",
    "    ptos.append(len(x))  \n",
    "    contador += 1\n",
    "\n",
    "#Utilizamos dataframe de pandas para hacer nuestra tabla\n",
    "data = {'h': H,\n",
    "        'Primer Algoritmo': Primero,\n",
    "        'Simpson': Simpson,\n",
    "        'Boole': Boole,\n",
    "        'No. de puntos': ptos,\n",
    "        }\n",
    "\n",
    "dataframe = pd.DataFrame (data, columns = ['h','Primer Algoritmo','Simpson','Boole', 'No. de puntos'])\n",
    "\n",
    "print (dataframe) "
   ]
  },
  {
   "cell_type": "code",
   "execution_count": 27,
   "metadata": {},
   "outputs": [
    {
     "data": {
      "image/png": "[encoded data removed]",
      "text/plain": [
       "<Figure size 432x288 with 1 Axes>"
      ]
     },
     "metadata": {
      "needs_background": "light"
     },
     "output_type": "display_data"
    }
   ],
   "source": [
    "#Gráfica valor de la integral por tamaño del intervalo\n",
    "valor_inta = 0.10213\n",
    "ana = np.ones(30) * valor_inta\n",
    "\n",
    "\n",
    "fig, ax = plt.subplots()\n",
    "original = ax.plot(H, ana, label='Valor de la Integral', color = \"silver\")\n",
    "primer_algor = ax.plot(H, Primero, label='Primer Algoritmo', color = \"deeppink\")\n",
    "segundo_algor = ax.plot(H, Simpson, label='Simpson', color = \"gold\")\n",
    "tercer_algor = ax.plot(H, Boole, label='Boole', color = \"skyblue\")\n",
    "ax.legend()\n",
    "ax.set_xlabel('Tamaño del intervalo')\n",
    "ax.set_ylabel('Valor de la integral')\n",
    "ax.set_title('Valor de la integral por tamaño del intervalo')\n",
    "plt.show()  "
   ]
  },
  {
   "cell_type": "code",
   "execution_count": 28,
   "metadata": {
    "scrolled": true
   },
   "outputs": [
    {
     "data": {
      "image/png": "[encoded data removed]",
      "text/plain": [
       "<Figure size 432x288 with 1 Axes>"
      ]
     },
     "metadata": {
      "needs_background": "light"
     },
     "output_type": "display_data"
    }
   ],
   "source": [
    "#Cambiamos H por ptos para finalmente graficar el valor de la integral por número de puntos\n",
    "valor_inta = 0.10213\n",
    "ana = np.ones(30) * valor_inta\n",
    "\n",
    "\n",
    "fig, ax = plt.subplots()\n",
    "original = ax.plot(ptos, ana, label='Valor de la Integral', color = \"silver\")\n",
    "primer_algor = ax.plot(ptos, Primero, label='Primer Algoritmo', color = \"deeppink\")\n",
    "segundo_algor = ax.plot(ptos, Simpson, label='Simpson', color = \"gold\")\n",
    "tercer_algor = ax.plot(ptos, Boole, label='Boole', color = \"skyblue\")\n",
    "ax.legend()\n",
    "ax.set_xlabel('No. de puntos')\n",
    "ax.set_ylabel('Valor de la integral')\n",
    "ax.set_title('Valor de la integral por no. de puntos')\n",
    "plt.show()  "
   ]
  },
  {
   "cell_type": "code",
   "execution_count": null,
   "metadata": {},
   "outputs": [],
   "source": []
  }
 ],
 "metadata": {
  "kernelspec": {
   "display_name": "Python 3",
   "language": "python",
   "name": "python3"
  },
  "language_info": {
   "codemirror_mode": {
    "name": "ipython",
    "version": 3
   },
   "file_extension": ".py",
   "mimetype": "text/x-python",
   "name": "python",
   "nbconvert_exporter": "python",
   "pygments_lexer": "ipython3",
   "version": "3.8.3"
  }
 },
 "nbformat": 4,
 "nbformat_minor": 4
}
